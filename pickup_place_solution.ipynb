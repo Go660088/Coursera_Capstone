{
  "nbformat": 4,
  "nbformat_minor": 0,
  "metadata": {
    "colab": {
      "name": "pickup-place-solution.ipynb",
      "provenance": [],
      "collapsed_sections": []
    },
    "kernelspec": {
      "name": "python3",
      "display_name": "Python 3"
    }
  },
  "cells": [
    {
      "cell_type": "markdown",
      "metadata": {
        "id": "8fopDYPhkcLN",
        "colab_type": "text"
      },
      "source": [
        "# Pickup place solution"
      ]
    },
    {
      "cell_type": "markdown",
      "metadata": {
        "id": "82uJtRfjmwOK",
        "colab_type": "text"
      },
      "source": [
        "## Introduction: Business Problem\n",
        "Tokyo is one of the most visted city in the world. **About 14.24 milliion trvelers visted Tokyo in the last year**, for tour, business, shopping, study or else. As a resident of the city, I noticed a new boom in travelers, explosive buying, means they like to buy a lot of duty-free goods - almost fill 1 or 2 big suitcase - more than sighseeing. \n",
        "\n",
        "**Delivery companys are interested in these travelers**　and provide a door-to-door delivery service to them - pick up goods when they finished shopping, package it, and do all customs clearance on behalf of them, finally, delivery it to travelers home in other countries.\n",
        "\n",
        "**How to pick up goods purchased before competitors get it?** It is a bussiness problem that delivery companys have to solve.\n",
        "\n",
        "Our idea is that set some pick up places near by travelers activty route. It is may be in shops, in hotels, or in airports etc. Since the group tour travelers will back to their motorcoach afetr shopping, we consider the better places will be between shopping area and parking space. **Therefore, the business problem can be solved as below**  \n",
        "- Get location data of duty-free shop and motorcoach parking space\n",
        "- Clustering shopping area using location data\n",
        "- Find area between shopping area and the nearest motorcoach parking space then set collect places in that area.\n",
        "\n"
      ]
    },
    {
      "cell_type": "markdown",
      "metadata": {
        "id": "zLnciPLcl9Hb",
        "colab_type": "text"
      },
      "source": [
        "## Data Description\n",
        "To solve the problem we collect the data as below:\n",
        "\n",
        "- Location of duty-free shop: I use Foursquare API to search and limit targets in downtown Tokyo instead of airport area where have too many delivery providers.\n",
        "\n",
        "- Location of motorcoach parking spaces: I found a list on https://www.s-park.jp/bus  provided by Tokyo city but no data - csv or other data format – so, I use pandas read_html to convert it to data\n",
        "\n",
        "- Addtional Location: I am also use Google Map to search more duty-free shop and merge it to Foursquare search results\n",
        "."
      ]
    },
    {
      "cell_type": "code",
      "metadata": {
        "id": "rIPsC0Y5mM1e",
        "colab_type": "code",
        "colab": {}
      },
      "source": [
        ""
      ],
      "execution_count": 0,
      "outputs": []
    }
  ]
}